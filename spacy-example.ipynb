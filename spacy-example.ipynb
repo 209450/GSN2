{
 "cells": [
  {
   "cell_type": "code",
   "execution_count": 4,
   "outputs": [
    {
     "name": "stdout",
     "output_type": "stream",
     "text": [
      "\u001B[38;5;2m✔ Download and installation successful\u001B[0m\n",
      "You can now load the package via spacy.load('en_core_web_sm')\n"
     ]
    }
   ],
   "source": [
    "import spacy\n",
    "import pytz\n",
    "from chatterbot import ChatBot\n",
    "from chatterbot.trainers import ChatterBotCorpusTrainer\n",
    "\n",
    "spacy.cli.download(\"en_core_web_sm\")\n",
    "nlp = spacy.load(\"en_core_web_sm\")"
   ],
   "metadata": {
    "collapsed": false,
    "pycharm": {
     "name": "#%% Import dependecies and setup spacy\n"
    }
   }
  },
  {
   "cell_type": "code",
   "execution_count": 2,
   "outputs": [
    {
     "name": "stderr",
     "output_type": "stream",
     "text": [
      "[nltk_data] Downloading package averaged_perceptron_tagger to\n",
      "[nltk_data]     /home/kaczor6418/nltk_data...\n",
      "[nltk_data]   Package averaged_perceptron_tagger is already up-to-\n",
      "[nltk_data]       date!\n",
      "[nltk_data] Downloading package punkt to /home/kaczor6418/nltk_data...\n",
      "[nltk_data]   Package punkt is already up-to-date!\n",
      "[nltk_data] Downloading package stopwords to\n",
      "[nltk_data]     /home/kaczor6418/nltk_data...\n",
      "[nltk_data]   Package stopwords is already up-to-date!\n"
     ]
    },
    {
     "name": "stdout",
     "output_type": "stream",
     "text": [
      "Training song-tags-reviews.yml: [####################] 100%\r\n"
     ]
    }
   ],
   "source": [
    "chatbot = ChatBot('Songs reviews from tag BOT')\n",
    "trainer = ChatterBotCorpusTrainer(chatbot)\n",
    "trainer.train('./song-tags-reviews.yml')"
   ],
   "metadata": {
    "collapsed": false,
    "pycharm": {
     "name": "#%% Train network\n"
    }
   }
  },
  {
   "cell_type": "code",
   "execution_count": 5,
   "outputs": [
    {
     "name": "stdout",
     "output_type": "stream",
     "text": [
      "metal → whether you call it hair metal glam metal or by some other name the hollywood rock sound in the 1980s was the decades most vibrant and exciting musical scene\n",
      "rock → this is a whiskeysoaked indie rock jam that captures the soul of modern americana\n",
      "pop → not quite as poprockish as the first cd and more bluesrock based its clear they upgraded the lyrical content with some outside writing\n"
     ]
    }
   ],
   "source": [
    "print(\"metal →\", chatbot.get_response(\"metal\"))\n",
    "print(\"rock →\", chatbot.get_response(\"rock\"))\n",
    "print(\"pop →\", chatbot.get_response(\"pop\"))"
   ],
   "metadata": {
    "collapsed": false,
    "pycharm": {
     "name": "#%% Check results\n"
    }
   }
  }
 ],
 "metadata": {
  "kernelspec": {
   "display_name": "Python 3",
   "language": "python",
   "name": "python3"
  },
  "language_info": {
   "codemirror_mode": {
    "name": "ipython",
    "version": 2
   },
   "file_extension": ".py",
   "mimetype": "text/x-python",
   "name": "python",
   "nbconvert_exporter": "python",
   "pygments_lexer": "ipython2",
   "version": "2.7.6"
  }
 },
 "nbformat": 4,
 "nbformat_minor": 0
}